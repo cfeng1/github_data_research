{
 "cells": [
  {
   "cell_type": "markdown",
   "metadata": {},
   "source": [
    "# Python Contributors Commit History\n",
    "\n",
    "\n",
    "\"pyauthors_full_commits.csv\" contains the commit histories of all authors who contributed to selected Python projects"
   ]
  },
  {
   "cell_type": "code",
   "execution_count": null,
   "metadata": {},
   "outputs": [],
   "source": [
    "# faith's customized data science module collection\n",
    "from dsimport.basic import *"
   ]
  },
  {
   "cell_type": "code",
   "execution_count": null,
   "metadata": {},
   "outputs": [],
   "source": [
    "## not recommended\n",
    "import pandas as pd\n",
    "import os\n",
    "data_dir = '/home/faithfeng/Dropbox/GitHub/Data/new_python_dataset'\n",
    "commits = pd.read_csv(data_dir+os.sep+'pyauthors_full_commits.csv', chunksize=10000)\n",
    "print(commits.shape)"
   ]
  },
  {
   "cell_type": "code",
   "execution_count": 1,
   "metadata": {},
   "outputs": [
    {
     "data": {
      "application/vnd.jupyter.widget-view+json": {
       "model_id": "0b801ffb4e984018aae30740f694f214",
       "version_major": 2,
       "version_minor": 0
      },
      "text/plain": [
       "VBox(children=(HTML(value='<h2>LocalCluster</h2>'), HBox(children=(HTML(value='\\n<div>\\n  <style scoped>\\n    …"
      ]
     },
     "metadata": {},
     "output_type": "display_data"
    },
    {
     "name": "stderr",
     "output_type": "stream",
     "text": [
      "bokeh.server.protocol_handler - ERROR - error handling message\n",
      " message: Message 'PATCH-DOC' content: {'references': [], 'events': [{'kind': 'ModelChanged', 'model': {'id': '1098'}, 'attr': 'text_align', 'new': {'value': 'right'}}, {'kind': 'ModelChanged', 'model': {'id': '1099'}, 'attr': 'text_align', 'new': {'value': 'right'}}, {'kind': 'ModelChanged', 'model': {'id': '1043'}, 'attr': 'reset_start', 'new': -8}, {'kind': 'ModelChanged', 'model': {'id': '1043'}, 'attr': 'reset_end', 'new': 0}, {'kind': 'ModelChanged', 'model': {'id': '1274'}, 'attr': 'interval', 'new': 86400000}, {'kind': 'ModelChanged', 'model': {'id': '1275'}, 'attr': 'interval', 'new': 259200000}, {'kind': 'ModelChanged', 'model': {'id': '1276'}, 'attr': 'interval', 'new': 604800000}, {'kind': 'ModelChanged', 'model': {'id': '1277'}, 'attr': 'interval', 'new': 1209600000}, {'kind': 'ModelChanged', 'model': {'id': '1278'}, 'attr': 'interval', 'new': 2592000000}, {'kind': 'ModelChanged', 'model': {'id': '1279'}, 'attr': 'interval', 'new': 5184000000}, {'kind': 'ModelChanged', 'model': {'id': '1280'}, 'attr': 'interval', 'new': 10368000000}, {'kind': 'ModelChanged', 'model': {'id': '1281'}, 'attr': 'interval', 'new': 15552000000}, {'kind': 'ModelChanged', 'model': {'id': '1282'}, 'attr': 'interval', 'new': 31536000000}]} \n",
      " error: DeserializationError(\"Enum('left', 'right', 'center') expected str, got {'value': 'right'} of type dict\")\n",
      "Traceback (most recent call last):\n",
      "  File \"/home/faithfeng/.local/lib/python3.8/site-packages/bokeh/server/protocol_handler.py\", line 90, in handle\n",
      "    work = await handler(message, connection)\n",
      "  File \"/home/faithfeng/.local/lib/python3.8/site-packages/bokeh/server/session.py\", line 67, in _needs_document_lock_wrapper\n",
      "    result = func(self, *args, **kwargs)\n",
      "  File \"/home/faithfeng/.local/lib/python3.8/site-packages/bokeh/server/session.py\", line 261, in _handle_patch\n",
      "    message.apply_to_document(self.document, self)\n",
      "  File \"/home/faithfeng/.local/lib/python3.8/site-packages/bokeh/protocol/messages/patch_doc.py\", line 100, in apply_to_document\n",
      "    doc._with_self_as_curdoc(lambda: doc.apply_json_patch(self.content, setter))\n",
      "  File \"/home/faithfeng/.local/lib/python3.8/site-packages/bokeh/document/document.py\", line 1150, in _with_self_as_curdoc\n",
      "    return f()\n",
      "  File \"/home/faithfeng/.local/lib/python3.8/site-packages/bokeh/protocol/messages/patch_doc.py\", line 100, in <lambda>\n",
      "    doc._with_self_as_curdoc(lambda: doc.apply_json_patch(self.content, setter))\n",
      "  File \"/home/faithfeng/.local/lib/python3.8/site-packages/bokeh/document/document.py\", line 411, in apply_json_patch\n",
      "    patched_obj.set_from_json(attr, value, models=references, setter=setter)\n",
      "  File \"/home/faithfeng/.local/lib/python3.8/site-packages/bokeh/core/has_props.py\", line 341, in set_from_json\n",
      "    descriptor.set_from_json(self, json, models, setter)\n",
      "  File \"/home/faithfeng/.local/lib/python3.8/site-packages/bokeh/core/property/descriptors.py\", line 611, in set_from_json\n",
      "    self.property.from_json(json, models),\n",
      "  File \"/home/faithfeng/.local/lib/python3.8/site-packages/bokeh/core/property/bases.py\", line 463, in from_json\n",
      "    raise DeserializationError(\"%s expected %s, got %s of type %s\" % (self, expected, json, type(json).__name__))\n",
      "bokeh.core.property.bases.DeserializationError: Enum('left', 'right', 'center') expected str, got {'value': 'right'} of type dict\n"
     ]
    }
   ],
   "source": [
    "from dask.distributed import Client\n",
    "client = Client()\n",
    "client.cluster"
   ]
  },
  {
   "cell_type": "code",
   "execution_count": 2,
   "metadata": {},
   "outputs": [
    {
     "data": {
      "text/html": [
       "<div>\n",
       "<style scoped>\n",
       "    .dataframe tbody tr th:only-of-type {\n",
       "        vertical-align: middle;\n",
       "    }\n",
       "\n",
       "    .dataframe tbody tr th {\n",
       "        vertical-align: top;\n",
       "    }\n",
       "\n",
       "    .dataframe thead th {\n",
       "        text-align: right;\n",
       "    }\n",
       "</style>\n",
       "<table border=\"1\" class=\"dataframe\">\n",
       "  <thead>\n",
       "    <tr style=\"text-align: right;\">\n",
       "      <th></th>\n",
       "      <th>author_id</th>\n",
       "      <th>project_id</th>\n",
       "      <th>commit_year</th>\n",
       "      <th>commit_month</th>\n",
       "      <th>num_commits</th>\n",
       "    </tr>\n",
       "  </thead>\n",
       "  <tbody>\n",
       "    <tr>\n",
       "      <th>0</th>\n",
       "      <td>3</td>\n",
       "      <td>1.0</td>\n",
       "      <td>2011</td>\n",
       "      <td>12</td>\n",
       "      <td>2</td>\n",
       "    </tr>\n",
       "    <tr>\n",
       "      <th>1</th>\n",
       "      <td>3</td>\n",
       "      <td>45316.0</td>\n",
       "      <td>2010</td>\n",
       "      <td>12</td>\n",
       "      <td>2</td>\n",
       "    </tr>\n",
       "    <tr>\n",
       "      <th>2</th>\n",
       "      <td>3</td>\n",
       "      <td>45316.0</td>\n",
       "      <td>2011</td>\n",
       "      <td>11</td>\n",
       "      <td>1</td>\n",
       "    </tr>\n",
       "    <tr>\n",
       "      <th>3</th>\n",
       "      <td>3</td>\n",
       "      <td>199049.0</td>\n",
       "      <td>2012</td>\n",
       "      <td>1</td>\n",
       "      <td>4</td>\n",
       "    </tr>\n",
       "    <tr>\n",
       "      <th>4</th>\n",
       "      <td>3</td>\n",
       "      <td>330967.0</td>\n",
       "      <td>2012</td>\n",
       "      <td>4</td>\n",
       "      <td>1</td>\n",
       "    </tr>\n",
       "  </tbody>\n",
       "</table>\n",
       "</div>"
      ],
      "text/plain": [
       "   author_id  project_id  commit_year  commit_month  num_commits\n",
       "0          3         1.0         2011            12            2\n",
       "1          3     45316.0         2010            12            2\n",
       "2          3     45316.0         2011            11            1\n",
       "3          3    199049.0         2012             1            4\n",
       "4          3    330967.0         2012             4            1"
      ]
     },
     "metadata": {},
     "output_type": "display_data"
    },
    {
     "data": {
      "text/plain": [
       "27262389"
      ]
     },
     "metadata": {},
     "output_type": "display_data"
    }
   ],
   "source": [
    "import os\n",
    "import dask.dataframe as dd\n",
    "data_dir = '/home/faithfeng/Dropbox/GitHub/Data/new_python_dataset'\n",
    "commits = dd.read_csv(data_dir+os.sep+'pyauthors_full_commits.csv')\n",
    "display(commits.head())\n",
    "display(len(commits))"
   ]
  },
  {
   "cell_type": "markdown",
   "metadata": {},
   "source": [
    "### Unique project id"
   ]
  },
  {
   "cell_type": "code",
   "execution_count": 12,
   "metadata": {},
   "outputs": [
    {
     "name": "stdout",
     "output_type": "stream",
     "text": [
      "9269526\n"
     ]
    }
   ],
   "source": [
    "unique_projects = commits['project_id'].unique().compute()\n",
    "print(len(unique_projects))"
   ]
  },
  {
   "cell_type": "code",
   "execution_count": 14,
   "metadata": {},
   "outputs": [
    {
     "data": {
      "text/plain": [
       "9269525"
      ]
     },
     "execution_count": 14,
     "metadata": {},
     "output_type": "execute_result"
    }
   ],
   "source": [
    "len(unique_projects.dropna())"
   ]
  },
  {
   "cell_type": "code",
   "execution_count": 15,
   "metadata": {},
   "outputs": [],
   "source": [
    "unique_projects = unique_projects.dropna().apply(lambda x: int(x))"
   ]
  },
  {
   "cell_type": "code",
   "execution_count": 16,
   "metadata": {},
   "outputs": [
    {
     "data": {
      "text/plain": [
       "0          1\n",
       "1      45316\n",
       "2     199049\n",
       "3     330967\n",
       "4    2098903\n",
       "Name: project_id, dtype: int64"
      ]
     },
     "execution_count": 16,
     "metadata": {},
     "output_type": "execute_result"
    }
   ],
   "source": [
    "unique_projects.head()"
   ]
  },
  {
   "cell_type": "code",
   "execution_count": 17,
   "metadata": {},
   "outputs": [],
   "source": [
    "unique_projects.to_csv(data_dir+os.sep+'pyauthor_unique_projects.csv', index=False)"
   ]
  },
  {
   "cell_type": "code",
   "execution_count": 2,
   "metadata": {},
   "outputs": [],
   "source": [
    "client.shutdown()"
   ]
  },
  {
   "cell_type": "code",
   "execution_count": null,
   "metadata": {},
   "outputs": [],
   "source": []
  }
 ],
 "metadata": {
  "kernelspec": {
   "display_name": "githubdata",
   "language": "python",
   "name": "githubdata"
  },
  "language_info": {
   "codemirror_mode": {
    "name": "ipython",
    "version": 3
   },
   "file_extension": ".py",
   "mimetype": "text/x-python",
   "name": "python",
   "nbconvert_exporter": "python",
   "pygments_lexer": "ipython3",
   "version": "3.8.2"
  }
 },
 "nbformat": 4,
 "nbformat_minor": 4
}
