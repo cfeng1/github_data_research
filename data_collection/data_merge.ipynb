{
 "cells": [
  {
   "cell_type": "markdown",
   "metadata": {},
   "source": [
    "# Data Merge\n",
    "\n",
    "This file merges the Python projects filtered by keywords selection on GitHub and released Python projects on PyPI (Python Package Index).\n",
    "The goal is to generate a csv file that contains project ids from both sources so that I can easily query the commits and the authors of those projects."
   ]
  },
  {
   "cell_type": "code",
   "execution_count": null,
   "metadata": {},
   "outputs": [],
   "source": [
    "# import sys\n",
    "# !{sys.executable} -m pip install pandas\n",
    "# import sys\n",
    "# sys.path"
   ]
  },
  {
   "cell_type": "code",
   "execution_count": 1,
   "metadata": {},
   "outputs": [],
   "source": [
    "import os\n",
    "import pandas as pd\n",
    "import numpy as np\n",
    "import swifter"
   ]
  },
  {
   "cell_type": "code",
   "execution_count": 2,
   "metadata": {},
   "outputs": [
    {
     "name": "stdout",
     "output_type": "stream",
     "text": [
      "(321835, 3)\n"
     ]
    },
    {
     "data": {
      "text/html": [
       "<div>\n",
       "<style scoped>\n",
       "    .dataframe tbody tr th:only-of-type {\n",
       "        vertical-align: middle;\n",
       "    }\n",
       "\n",
       "    .dataframe tbody tr th {\n",
       "        vertical-align: top;\n",
       "    }\n",
       "\n",
       "    .dataframe thead th {\n",
       "        text-align: right;\n",
       "    }\n",
       "</style>\n",
       "<table border=\"1\" class=\"dataframe\">\n",
       "  <thead>\n",
       "    <tr style=\"text-align: right;\">\n",
       "      <th></th>\n",
       "      <th>project_id</th>\n",
       "      <th>description</th>\n",
       "      <th>url</th>\n",
       "    </tr>\n",
       "  </thead>\n",
       "  <tbody>\n",
       "    <tr>\n",
       "      <th>0</th>\n",
       "      <td>67</td>\n",
       "      <td>Chinese segmentation library</td>\n",
       "      <td>https://api.github.com/repos/victorlin/loso</td>\n",
       "    </tr>\n",
       "    <tr>\n",
       "      <th>1</th>\n",
       "      <td>119</td>\n",
       "      <td>Easy to use CLI for picture classification bas...</td>\n",
       "      <td>https://api.github.com/repos/fudgefr/pyctozor</td>\n",
       "    </tr>\n",
       "    <tr>\n",
       "      <th>2</th>\n",
       "      <td>197</td>\n",
       "      <td>Use the Twilio API to send hourly catfacts!</td>\n",
       "      <td>https://api.github.com/repos/rossdylan/catfacts</td>\n",
       "    </tr>\n",
       "    <tr>\n",
       "      <th>3</th>\n",
       "      <td>220</td>\n",
       "      <td>GoodData client library written in python.</td>\n",
       "      <td>https://api.github.com/repos/comoga/gooddata-p...</td>\n",
       "    </tr>\n",
       "    <tr>\n",
       "      <th>4</th>\n",
       "      <td>265</td>\n",
       "      <td>A django rest framework for handling requests,...</td>\n",
       "      <td>https://api.github.com/repos/cakey/Shimmer</td>\n",
       "    </tr>\n",
       "  </tbody>\n",
       "</table>\n",
       "</div>"
      ],
      "text/plain": [
       "   project_id                                        description  \\\n",
       "0          67                       Chinese segmentation library   \n",
       "1         119  Easy to use CLI for picture classification bas...   \n",
       "2         197        Use the Twilio API to send hourly catfacts!   \n",
       "3         220         GoodData client library written in python.   \n",
       "4         265  A django rest framework for handling requests,...   \n",
       "\n",
       "                                                 url  \n",
       "0        https://api.github.com/repos/victorlin/loso  \n",
       "1      https://api.github.com/repos/fudgefr/pyctozor  \n",
       "2    https://api.github.com/repos/rossdylan/catfacts  \n",
       "3  https://api.github.com/repos/comoga/gooddata-p...  \n",
       "4         https://api.github.com/repos/cakey/Shimmer  "
      ]
     },
     "metadata": {},
     "output_type": "display_data"
    }
   ],
   "source": [
    "data_dir = '/home/faithfeng/Dropbox/GitHub/Data/new_python_dataset'\n",
    "github_projects = pd.read_csv(data_dir+os.sep+'python_projects_id.tsv', encoding='latin1', sep='\\t', header=0)\n",
    "print(github_projects.shape)\n",
    "display(github_projects.head())"
   ]
  },
  {
   "cell_type": "code",
   "execution_count": 3,
   "metadata": {},
   "outputs": [
    {
     "name": "stdout",
     "output_type": "stream",
     "text": [
      "(70152, 3)\n"
     ]
    },
    {
     "data": {
      "text/html": [
       "<div>\n",
       "<style scoped>\n",
       "    .dataframe tbody tr th:only-of-type {\n",
       "        vertical-align: middle;\n",
       "    }\n",
       "\n",
       "    .dataframe tbody tr th {\n",
       "        vertical-align: top;\n",
       "    }\n",
       "\n",
       "    .dataframe thead th {\n",
       "        text-align: right;\n",
       "    }\n",
       "</style>\n",
       "<table border=\"1\" class=\"dataframe\">\n",
       "  <thead>\n",
       "    <tr style=\"text-align: right;\">\n",
       "      <th></th>\n",
       "      <th>project_id</th>\n",
       "      <th>description</th>\n",
       "      <th>url</th>\n",
       "    </tr>\n",
       "  </thead>\n",
       "  <tbody>\n",
       "    <tr>\n",
       "      <th>0</th>\n",
       "      <td>65822010</td>\n",
       "      <td>Next generation OS for G8 (http://greenitglobe...</td>\n",
       "      <td>https://api.github.com/repos/Zero-OS/0-Core</td>\n",
       "    </tr>\n",
       "    <tr>\n",
       "      <th>1</th>\n",
       "      <td>59056213</td>\n",
       "      <td>Stateless g8os grid api server</td>\n",
       "      <td>https://api.github.com/repos/g8os/grid</td>\n",
       "    </tr>\n",
       "    <tr>\n",
       "      <th>2</th>\n",
       "      <td>8053856</td>\n",
       "      <td>A simple Python-based DCPU assembly compiler</td>\n",
       "      <td>https://api.github.com/repos/severb/0x10c-asm</td>\n",
       "    </tr>\n",
       "    <tr>\n",
       "      <th>3</th>\n",
       "      <td>11791951</td>\n",
       "      <td>(Deprecated) Unofficial Python API wrapper SDK...</td>\n",
       "      <td>https://api.github.com/repos/shichao-an/115wan...</td>\n",
       "    </tr>\n",
       "    <tr>\n",
       "      <th>4</th>\n",
       "      <td>46212886</td>\n",
       "      <td>Integration helpers for Hashicorp Vault with 1...</td>\n",
       "      <td>https://api.github.com/repos/jdelic/12factor-v...</td>\n",
       "    </tr>\n",
       "  </tbody>\n",
       "</table>\n",
       "</div>"
      ],
      "text/plain": [
       "   project_id                                        description  \\\n",
       "0    65822010  Next generation OS for G8 (http://greenitglobe...   \n",
       "1    59056213                     Stateless g8os grid api server   \n",
       "2     8053856       A simple Python-based DCPU assembly compiler   \n",
       "3    11791951  (Deprecated) Unofficial Python API wrapper SDK...   \n",
       "4    46212886  Integration helpers for Hashicorp Vault with 1...   \n",
       "\n",
       "                                                 url  \n",
       "0        https://api.github.com/repos/Zero-OS/0-Core  \n",
       "1             https://api.github.com/repos/g8os/grid  \n",
       "2      https://api.github.com/repos/severb/0x10c-asm  \n",
       "3  https://api.github.com/repos/shichao-an/115wan...  \n",
       "4  https://api.github.com/repos/jdelic/12factor-v...  "
      ]
     },
     "metadata": {},
     "output_type": "display_data"
    }
   ],
   "source": [
    "pypi_projects = pd.read_csv(data_dir+os.sep+'pypi_projects_id.tsv', encoding='latin1', sep='\\t', header=0)\n",
    "print(pypi_projects.shape)\n",
    "display(pypi_projects.head())\n",
    "released = set(list(pypi_projects['project_id'].values))"
   ]
  },
  {
   "cell_type": "code",
   "execution_count": 4,
   "metadata": {},
   "outputs": [
    {
     "data": {
      "application/vnd.jupyter.widget-view+json": {
       "model_id": "69cd9afe99d34cd2a3fe89f1d64992c8",
       "version_major": 2,
       "version_minor": 0
      },
      "text/plain": [
       "HBox(children=(FloatProgress(value=0.0, description='Pandas Apply', max=321835.0, style=ProgressStyle(descript…"
      ]
     },
     "metadata": {},
     "output_type": "display_data"
    },
    {
     "name": "stdout",
     "output_type": "stream",
     "text": [
      "\n"
     ]
    },
    {
     "data": {
      "text/html": [
       "<div>\n",
       "<style scoped>\n",
       "    .dataframe tbody tr th:only-of-type {\n",
       "        vertical-align: middle;\n",
       "    }\n",
       "\n",
       "    .dataframe tbody tr th {\n",
       "        vertical-align: top;\n",
       "    }\n",
       "\n",
       "    .dataframe thead th {\n",
       "        text-align: right;\n",
       "    }\n",
       "</style>\n",
       "<table border=\"1\" class=\"dataframe\">\n",
       "  <thead>\n",
       "    <tr style=\"text-align: right;\">\n",
       "      <th></th>\n",
       "      <th>project_id</th>\n",
       "      <th>description</th>\n",
       "      <th>url</th>\n",
       "      <th>released</th>\n",
       "    </tr>\n",
       "  </thead>\n",
       "  <tbody>\n",
       "    <tr>\n",
       "      <th>0</th>\n",
       "      <td>67</td>\n",
       "      <td>Chinese segmentation library</td>\n",
       "      <td>https://api.github.com/repos/victorlin/loso</td>\n",
       "      <td>0</td>\n",
       "    </tr>\n",
       "    <tr>\n",
       "      <th>1</th>\n",
       "      <td>119</td>\n",
       "      <td>Easy to use CLI for picture classification bas...</td>\n",
       "      <td>https://api.github.com/repos/fudgefr/pyctozor</td>\n",
       "      <td>0</td>\n",
       "    </tr>\n",
       "    <tr>\n",
       "      <th>2</th>\n",
       "      <td>197</td>\n",
       "      <td>Use the Twilio API to send hourly catfacts!</td>\n",
       "      <td>https://api.github.com/repos/rossdylan/catfacts</td>\n",
       "      <td>0</td>\n",
       "    </tr>\n",
       "    <tr>\n",
       "      <th>3</th>\n",
       "      <td>220</td>\n",
       "      <td>GoodData client library written in python.</td>\n",
       "      <td>https://api.github.com/repos/comoga/gooddata-p...</td>\n",
       "      <td>0</td>\n",
       "    </tr>\n",
       "    <tr>\n",
       "      <th>4</th>\n",
       "      <td>265</td>\n",
       "      <td>A django rest framework for handling requests,...</td>\n",
       "      <td>https://api.github.com/repos/cakey/Shimmer</td>\n",
       "      <td>0</td>\n",
       "    </tr>\n",
       "  </tbody>\n",
       "</table>\n",
       "</div>"
      ],
      "text/plain": [
       "   project_id                                        description  \\\n",
       "0          67                       Chinese segmentation library   \n",
       "1         119  Easy to use CLI for picture classification bas...   \n",
       "2         197        Use the Twilio API to send hourly catfacts!   \n",
       "3         220         GoodData client library written in python.   \n",
       "4         265  A django rest framework for handling requests,...   \n",
       "\n",
       "                                                 url  released  \n",
       "0        https://api.github.com/repos/victorlin/loso         0  \n",
       "1      https://api.github.com/repos/fudgefr/pyctozor         0  \n",
       "2    https://api.github.com/repos/rossdylan/catfacts         0  \n",
       "3  https://api.github.com/repos/comoga/gooddata-p...         0  \n",
       "4         https://api.github.com/repos/cakey/Shimmer         0  "
      ]
     },
     "execution_count": 4,
     "metadata": {},
     "output_type": "execute_result"
    }
   ],
   "source": [
    "github_projects['released'] = github_projects['project_id'].swifter.apply(lambda x: int(x in released))\n",
    "github_projects.head()"
   ]
  },
  {
   "cell_type": "code",
   "execution_count": 5,
   "metadata": {},
   "outputs": [
    {
     "data": {
      "text/html": [
       "<div>\n",
       "<style scoped>\n",
       "    .dataframe tbody tr th:only-of-type {\n",
       "        vertical-align: middle;\n",
       "    }\n",
       "\n",
       "    .dataframe tbody tr th {\n",
       "        vertical-align: top;\n",
       "    }\n",
       "\n",
       "    .dataframe thead th {\n",
       "        text-align: right;\n",
       "    }\n",
       "</style>\n",
       "<table border=\"1\" class=\"dataframe\">\n",
       "  <thead>\n",
       "    <tr style=\"text-align: right;\">\n",
       "      <th></th>\n",
       "      <th>project_id</th>\n",
       "      <th>released</th>\n",
       "      <th>from_pypi</th>\n",
       "    </tr>\n",
       "  </thead>\n",
       "  <tbody>\n",
       "    <tr>\n",
       "      <th>count</th>\n",
       "      <td>3.218350e+05</td>\n",
       "      <td>321835.000000</td>\n",
       "      <td>321835.0</td>\n",
       "    </tr>\n",
       "    <tr>\n",
       "      <th>mean</th>\n",
       "      <td>5.453250e+07</td>\n",
       "      <td>0.070359</td>\n",
       "      <td>0.0</td>\n",
       "    </tr>\n",
       "    <tr>\n",
       "      <th>std</th>\n",
       "      <td>4.648087e+07</td>\n",
       "      <td>0.255752</td>\n",
       "      <td>0.0</td>\n",
       "    </tr>\n",
       "    <tr>\n",
       "      <th>min</th>\n",
       "      <td>6.700000e+01</td>\n",
       "      <td>0.000000</td>\n",
       "      <td>0.0</td>\n",
       "    </tr>\n",
       "    <tr>\n",
       "      <th>25%</th>\n",
       "      <td>1.392399e+07</td>\n",
       "      <td>0.000000</td>\n",
       "      <td>0.0</td>\n",
       "    </tr>\n",
       "    <tr>\n",
       "      <th>50%</th>\n",
       "      <td>3.471181e+07</td>\n",
       "      <td>0.000000</td>\n",
       "      <td>0.0</td>\n",
       "    </tr>\n",
       "    <tr>\n",
       "      <th>75%</th>\n",
       "      <td>1.060466e+08</td>\n",
       "      <td>0.000000</td>\n",
       "      <td>0.0</td>\n",
       "    </tr>\n",
       "    <tr>\n",
       "      <th>max</th>\n",
       "      <td>1.376101e+08</td>\n",
       "      <td>1.000000</td>\n",
       "      <td>0.0</td>\n",
       "    </tr>\n",
       "  </tbody>\n",
       "</table>\n",
       "</div>"
      ],
      "text/plain": [
       "         project_id       released  from_pypi\n",
       "count  3.218350e+05  321835.000000   321835.0\n",
       "mean   5.453250e+07       0.070359        0.0\n",
       "std    4.648087e+07       0.255752        0.0\n",
       "min    6.700000e+01       0.000000        0.0\n",
       "25%    1.392399e+07       0.000000        0.0\n",
       "50%    3.471181e+07       0.000000        0.0\n",
       "75%    1.060466e+08       0.000000        0.0\n",
       "max    1.376101e+08       1.000000        0.0"
      ]
     },
     "metadata": {},
     "output_type": "display_data"
    }
   ],
   "source": [
    "github_projects['from_pypi'] = pd.Series(np.zeros(len(github_projects)), index=github_projects.index)\n",
    "display(github_projects.describe())\n",
    "pypi_projects['released'] = pd.Series(np.ones(len(pypi_projects)), index=pypi_projects.index)\n",
    "pypi_projects['from_pypi'] = pd.Series(np.ones(len(pypi_projects)), index=pypi_projects.index)"
   ]
  },
  {
   "cell_type": "code",
   "execution_count": 6,
   "metadata": {},
   "outputs": [
    {
     "name": "stdout",
     "output_type": "stream",
     "text": [
      "(391987, 5)\n",
      "(369343, 5)\n"
     ]
    }
   ],
   "source": [
    "py_projects = pd.concat([github_projects, pypi_projects])\n",
    "print(py_projects.shape)\n",
    "# drop duplicates\n",
    "py_projects = py_projects.drop_duplicates(subset=['project_id'], keep='first')\n",
    "print(py_projects.shape)"
   ]
  },
  {
   "cell_type": "code",
   "execution_count": 7,
   "metadata": {},
   "outputs": [
    {
     "data": {
      "text/html": [
       "<div>\n",
       "<style scoped>\n",
       "    .dataframe tbody tr th:only-of-type {\n",
       "        vertical-align: middle;\n",
       "    }\n",
       "\n",
       "    .dataframe tbody tr th {\n",
       "        vertical-align: top;\n",
       "    }\n",
       "\n",
       "    .dataframe thead th {\n",
       "        text-align: right;\n",
       "    }\n",
       "</style>\n",
       "<table border=\"1\" class=\"dataframe\">\n",
       "  <thead>\n",
       "    <tr style=\"text-align: right;\">\n",
       "      <th></th>\n",
       "      <th>project_id</th>\n",
       "      <th>released</th>\n",
       "      <th>from_pypi</th>\n",
       "    </tr>\n",
       "  </thead>\n",
       "  <tbody>\n",
       "    <tr>\n",
       "      <th>count</th>\n",
       "      <td>3.693430e+05</td>\n",
       "      <td>369343.000000</td>\n",
       "      <td>369343.000000</td>\n",
       "    </tr>\n",
       "    <tr>\n",
       "      <th>mean</th>\n",
       "      <td>5.214149e+07</td>\n",
       "      <td>0.189937</td>\n",
       "      <td>0.128628</td>\n",
       "    </tr>\n",
       "    <tr>\n",
       "      <th>std</th>\n",
       "      <td>4.483021e+07</td>\n",
       "      <td>0.392252</td>\n",
       "      <td>0.334789</td>\n",
       "    </tr>\n",
       "    <tr>\n",
       "      <th>min</th>\n",
       "      <td>6.400000e+01</td>\n",
       "      <td>0.000000</td>\n",
       "      <td>0.000000</td>\n",
       "    </tr>\n",
       "    <tr>\n",
       "      <th>25%</th>\n",
       "      <td>1.369632e+07</td>\n",
       "      <td>0.000000</td>\n",
       "      <td>0.000000</td>\n",
       "    </tr>\n",
       "    <tr>\n",
       "      <th>50%</th>\n",
       "      <td>3.429407e+07</td>\n",
       "      <td>0.000000</td>\n",
       "      <td>0.000000</td>\n",
       "    </tr>\n",
       "    <tr>\n",
       "      <th>75%</th>\n",
       "      <td>9.233227e+07</td>\n",
       "      <td>0.000000</td>\n",
       "      <td>0.000000</td>\n",
       "    </tr>\n",
       "    <tr>\n",
       "      <th>max</th>\n",
       "      <td>1.376101e+08</td>\n",
       "      <td>1.000000</td>\n",
       "      <td>1.000000</td>\n",
       "    </tr>\n",
       "  </tbody>\n",
       "</table>\n",
       "</div>"
      ],
      "text/plain": [
       "         project_id       released      from_pypi\n",
       "count  3.693430e+05  369343.000000  369343.000000\n",
       "mean   5.214149e+07       0.189937       0.128628\n",
       "std    4.483021e+07       0.392252       0.334789\n",
       "min    6.400000e+01       0.000000       0.000000\n",
       "25%    1.369632e+07       0.000000       0.000000\n",
       "50%    3.429407e+07       0.000000       0.000000\n",
       "75%    9.233227e+07       0.000000       0.000000\n",
       "max    1.376101e+08       1.000000       1.000000"
      ]
     },
     "metadata": {},
     "output_type": "display_data"
    }
   ],
   "source": [
    "display(py_projects.describe())"
   ]
  },
  {
   "cell_type": "code",
   "execution_count": 10,
   "metadata": {},
   "outputs": [],
   "source": [
    "py_projects.to_csv(data_dir+os.sep+'merged_pyprojects.csv', index=False)\n",
    "py_projects[['project_id', 'released', 'from_pypi']].to_csv(data_dir+os.sep+'merged_pyprojects_upload.csv', index=False)"
   ]
  },
  {
   "cell_type": "code",
   "execution_count": null,
   "metadata": {},
   "outputs": [],
   "source": []
  }
 ],
 "metadata": {
  "kernelspec": {
   "display_name": "gitvenv",
   "language": "python",
   "name": "gitvenv"
  },
  "language_info": {
   "codemirror_mode": {
    "name": "ipython",
    "version": 3
   },
   "file_extension": ".py",
   "mimetype": "text/x-python",
   "name": "python",
   "nbconvert_exporter": "python",
   "pygments_lexer": "ipython3",
   "version": "3.8.2"
  }
 },
 "nbformat": 4,
 "nbformat_minor": 4
}
