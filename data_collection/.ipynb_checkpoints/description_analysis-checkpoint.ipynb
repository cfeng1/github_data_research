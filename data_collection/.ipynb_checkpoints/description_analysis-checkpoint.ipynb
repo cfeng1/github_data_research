{
 "cells": [
  {
   "cell_type": "markdown",
   "metadata": {},
   "source": [
    "# PyPI Project Description Analysis\n",
    "\n",
    "get word frequency for PyPI project descriptions on GitHub."
   ]
  },
  {
   "cell_type": "code",
   "execution_count": 41,
   "metadata": {},
   "outputs": [],
   "source": [
    "import os\n",
    "import numpy as np\n",
    "import pandas as pd\n",
    "import swifter\n",
    "import string\n",
    "import itertools\n",
    "import collections\n",
    "import nltk\n",
    "from nltk.corpus import stopwords\n",
    "# nltk.download('stopwords')"
   ]
  },
  {
   "cell_type": "code",
   "execution_count": 4,
   "metadata": {},
   "outputs": [
    {
     "data": {
      "text/html": [
       "<div>\n",
       "<style scoped>\n",
       "    .dataframe tbody tr th:only-of-type {\n",
       "        vertical-align: middle;\n",
       "    }\n",
       "\n",
       "    .dataframe tbody tr th {\n",
       "        vertical-align: top;\n",
       "    }\n",
       "\n",
       "    .dataframe thead th {\n",
       "        text-align: right;\n",
       "    }\n",
       "</style>\n",
       "<table border=\"1\" class=\"dataframe\">\n",
       "  <thead>\n",
       "    <tr style=\"text-align: right;\">\n",
       "      <th></th>\n",
       "      <th>project_id</th>\n",
       "      <th>description</th>\n",
       "      <th>topic_name</th>\n",
       "    </tr>\n",
       "  </thead>\n",
       "  <tbody>\n",
       "    <tr>\n",
       "      <th>0</th>\n",
       "      <td>65822010</td>\n",
       "      <td>Next generation OS for G8 (http://greenitglobe...</td>\n",
       "      <td>NaN</td>\n",
       "    </tr>\n",
       "    <tr>\n",
       "      <th>1</th>\n",
       "      <td>59056213</td>\n",
       "      <td>Stateless g8os grid api server</td>\n",
       "      <td>NaN</td>\n",
       "    </tr>\n",
       "    <tr>\n",
       "      <th>2</th>\n",
       "      <td>8053856</td>\n",
       "      <td>A simple Python-based DCPU assembly compiler</td>\n",
       "      <td>NaN</td>\n",
       "    </tr>\n",
       "    <tr>\n",
       "      <th>3</th>\n",
       "      <td>11791951</td>\n",
       "      <td>(Deprecated) Unofficial Python API wrapper SDK...</td>\n",
       "      <td>NaN</td>\n",
       "    </tr>\n",
       "    <tr>\n",
       "      <th>4</th>\n",
       "      <td>46212886</td>\n",
       "      <td>Integration helpers for Hashicorp Vault with 1...</td>\n",
       "      <td>NaN</td>\n",
       "    </tr>\n",
       "  </tbody>\n",
       "</table>\n",
       "</div>"
      ],
      "text/plain": [
       "   project_id                                        description topic_name\n",
       "0    65822010  Next generation OS for G8 (http://greenitglobe...        NaN\n",
       "1    59056213                     Stateless g8os grid api server        NaN\n",
       "2     8053856       A simple Python-based DCPU assembly compiler        NaN\n",
       "3    11791951  (Deprecated) Unofficial Python API wrapper SDK...        NaN\n",
       "4    46212886  Integration helpers for Hashicorp Vault with 1...        NaN"
      ]
     },
     "execution_count": 4,
     "metadata": {},
     "output_type": "execute_result"
    }
   ],
   "source": [
    "data_dir = '/home/faithfeng/Dropbox/GitHub/Data'\n",
    "df = pd.read_csv(data_dir+os.sep+'pypi_project_descriptions.tsv',encoding='latin1', sep='\\t', header=0)\n",
    "df.head()"
   ]
  },
  {
   "cell_type": "code",
   "execution_count": 5,
   "metadata": {},
   "outputs": [
    {
     "data": {
      "text/plain": [
       "'Next generation OS for G8 (http://greenitglobe.com/#gener8)'"
      ]
     },
     "execution_count": 5,
     "metadata": {},
     "output_type": "execute_result"
    }
   ],
   "source": [
    "df['description'].iloc[0]"
   ]
  },
  {
   "cell_type": "code",
   "execution_count": 12,
   "metadata": {},
   "outputs": [
    {
     "name": "stdout",
     "output_type": "stream",
     "text": [
      "Next generation OS for G8  http   greenitglobe com  gener8 \n"
     ]
    }
   ],
   "source": [
    "def removePunctuation(text):\n",
    "    n = len(string.punctuation)\n",
    "    translation = str.maketrans(string.punctuation, ' '*n)\n",
    "    return text.translate(translation)\n",
    "\n",
    "print(removePunctuation(df['description'].iloc[0]))"
   ]
  },
  {
   "cell_type": "code",
   "execution_count": 39,
   "metadata": {},
   "outputs": [
    {
     "name": "stdout",
     "output_type": "stream",
     "text": [
      "['next', 'generation', 'os', 'g8', 'http', 'greenitglobe', 'gener8']\n"
     ]
    }
   ],
   "source": [
    "def parseText(text):\n",
    "    if pd.isnull(text) or text is None:\n",
    "        return np.nan\n",
    "    text = removePunctuation(text)\n",
    "    text = text.split(' ')\n",
    "    text = [x.lower() for x in text if len(x)>0 and x not in stopwords.words()]\n",
    "    return text\n",
    "\n",
    "print(parseText(df['description'].iloc[0]))"
   ]
  },
  {
   "cell_type": "code",
   "execution_count": 42,
   "metadata": {},
   "outputs": [
    {
     "data": {
      "application/vnd.jupyter.widget-view+json": {
       "model_id": "8df5574cb34a400c88472268c31abe74",
       "version_major": 2,
       "version_minor": 0
      },
      "text/plain": [
       "HBox(children=(FloatProgress(value=0.0, description='Pandas Apply', max=70247.0, style=ProgressStyle(descripti…"
      ]
     },
     "metadata": {},
     "output_type": "display_data"
    },
    {
     "name": "stdout",
     "output_type": "stream",
     "text": [
      "\n"
     ]
    },
    {
     "data": {
      "text/plain": [
       "0    [next, generation, os, g8, http, greenitglobe,...\n",
       "1                 [stateless, g8os, grid, api, server]\n",
       "2    [a, simple, python, based, dcpu, assembly, com...\n",
       "3    [deprecated, unofficial, python, api, wrapper,...\n",
       "4    [integration, helpers, hashicorp, vault, 12fac...\n",
       "Name: description, dtype: object"
      ]
     },
     "execution_count": 42,
     "metadata": {},
     "output_type": "execute_result"
    }
   ],
   "source": [
    "parsed_descriptions = df['description'].swifter.apply(parseText)\n",
    "parsed_descriptions.iloc[0:5]"
   ]
  },
  {
   "cell_type": "code",
   "execution_count": 43,
   "metadata": {},
   "outputs": [
    {
     "name": "stdout",
     "output_type": "stream",
     "text": [
      "[('python', 19664), ('a', 10787), ('django', 6104), ('library', 5789), ('api', 4515), ('simple', 3744), ('data', 2977), ('based', 2440), ('client', 2374), ('tool', 2277), ('wrapper', 2219), ('using', 2198), ('module', 2032), ('framework', 1946), ('files', 1930), ('command', 1888), ('package', 1850), ('line', 1657), ('interface', 1466), ('web', 1425), ('tools', 1422), ('app', 1415), ('file', 1391), ('implementation', 1341), ('plugin', 1291), ('use', 1234), ('code', 1143), ('an', 1140), ('application', 1132), ('server', 1092), ('flask', 1052), ('http', 978), ('support', 953), ('system', 940), ('utility', 930), ('extension', 916), ('easy', 910), ('3', 901), ('json', 886), ('project', 883), ('rest', 856), ('like', 833), ('the', 785), ('text', 761), ('utilities', 755), ('provides', 745), ('cli', 730), ('test', 685), ('create', 684), ('integration', 677), ('database', 675), ('script', 672), ('this', 668), ('service', 659), ('google', 659), ('generator', 641), ('2', 640), ('functions', 638), ('written', 625), ('plone', 600), ('analysis', 591), ('time', 590), ('user', 586), ('management', 582), ('parser', 578), ('models', 578), ('model', 576), ('github', 575), ('set', 561), ('html', 561), ('applications', 549), ('generate', 544), ('object', 543), ('small', 537), ('via', 527), ('used', 522), ('access', 520), ('collection', 520), ('make', 514), ('https', 509), ('projects', 507), ('format', 502), ('testing', 500), ('manager', 499), ('bindings', 485), ('content', 481), ('manage', 477), ('objects', 471), ('git', 464), ('template', 460), ('get', 459), ('fast', 459), ('allows', 457), ('image', 447), ('aws', 447), ('language', 444), ('build', 443), ('class', 443), ('configuration', 440), ('scripts', 438)]\n"
     ]
    }
   ],
   "source": [
    "parsed = list(np.array(parsed_descriptions.dropna()))\n",
    "parsed = list(itertools.chain.from_iterable(parsed))\n",
    "# parsed = [x for x in parsed if x not in stopwords.words()]\n",
    "\n",
    "\n",
    "parsed = collections.Counter(parsed)\n",
    "print(parsed.most_common(100))"
   ]
  },
  {
   "cell_type": "code",
   "execution_count": null,
   "metadata": {},
   "outputs": [],
   "source": []
  }
 ],
 "metadata": {
  "kernelspec": {
   "display_name": "gitvenv",
   "language": "python",
   "name": "gitvenv"
  },
  "language_info": {
   "codemirror_mode": {
    "name": "ipython",
    "version": 3
   },
   "file_extension": ".py",
   "mimetype": "text/x-python",
   "name": "python",
   "nbconvert_exporter": "python",
   "pygments_lexer": "ipython3",
   "version": "3.8.2"
  }
 },
 "nbformat": 4,
 "nbformat_minor": 4
}
