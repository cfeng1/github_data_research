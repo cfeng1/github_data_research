{
 "cells": [
  {
   "cell_type": "markdown",
   "metadata": {},
   "source": [
    "# EDA on Project Development Cycle\n",
    "\n",
    "* Over-sampling of released projects?\n",
    "  * released percentage in ghtorrent data v.s. released in current data\n",
    "* Number of commits by project age?"
   ]
  },
  {
   "cell_type": "code",
   "execution_count": 5,
   "metadata": {},
   "outputs": [],
   "source": [
    "import dask.dataframe as dd\n",
    "from dask import compute as dcompute\n",
    "import os\n",
    "data_dir = '/home/faithfeng/Dropbox/GitHub/Data/new_python_dataset'"
   ]
  },
  {
   "cell_type": "code",
   "execution_count": 2,
   "metadata": {},
   "outputs": [
    {
     "name": "stdout",
     "output_type": "stream",
     "text": [
      "369343\n",
      "27262389\n"
     ]
    }
   ],
   "source": [
    "pyprojects = dd.read_csv(data_dir+os.sep+'merged_pyprojects.csv')\n",
    "commits = dd.read_csv(data_dir+os.sep+'pyauthors_full_commits.csv')\n",
    "print(len(pyprojects))\n",
    "print(len(commits))"
   ]
  },
  {
   "cell_type": "code",
   "execution_count": 3,
   "metadata": {},
   "outputs": [
    {
     "data": {
      "text/html": [
       "<div>\n",
       "<style scoped>\n",
       "    .dataframe tbody tr th:only-of-type {\n",
       "        vertical-align: middle;\n",
       "    }\n",
       "\n",
       "    .dataframe tbody tr th {\n",
       "        vertical-align: top;\n",
       "    }\n",
       "\n",
       "    .dataframe thead th {\n",
       "        text-align: right;\n",
       "    }\n",
       "</style>\n",
       "<table border=\"1\" class=\"dataframe\">\n",
       "  <thead>\n",
       "    <tr style=\"text-align: right;\">\n",
       "      <th></th>\n",
       "      <th>project_id</th>\n",
       "      <th>description</th>\n",
       "      <th>url</th>\n",
       "      <th>released</th>\n",
       "      <th>from_pypi</th>\n",
       "    </tr>\n",
       "  </thead>\n",
       "  <tbody>\n",
       "    <tr>\n",
       "      <th>0</th>\n",
       "      <td>67</td>\n",
       "      <td>Chinese segmentation library</td>\n",
       "      <td>https://api.github.com/repos/victorlin/loso</td>\n",
       "      <td>0.0</td>\n",
       "      <td>0.0</td>\n",
       "    </tr>\n",
       "    <tr>\n",
       "      <th>1</th>\n",
       "      <td>119</td>\n",
       "      <td>Easy to use CLI for picture classification bas...</td>\n",
       "      <td>https://api.github.com/repos/fudgefr/pyctozor</td>\n",
       "      <td>0.0</td>\n",
       "      <td>0.0</td>\n",
       "    </tr>\n",
       "    <tr>\n",
       "      <th>2</th>\n",
       "      <td>197</td>\n",
       "      <td>Use the Twilio API to send hourly catfacts!</td>\n",
       "      <td>https://api.github.com/repos/rossdylan/catfacts</td>\n",
       "      <td>0.0</td>\n",
       "      <td>0.0</td>\n",
       "    </tr>\n",
       "    <tr>\n",
       "      <th>3</th>\n",
       "      <td>220</td>\n",
       "      <td>GoodData client library written in python.</td>\n",
       "      <td>https://api.github.com/repos/comoga/gooddata-p...</td>\n",
       "      <td>0.0</td>\n",
       "      <td>0.0</td>\n",
       "    </tr>\n",
       "    <tr>\n",
       "      <th>4</th>\n",
       "      <td>265</td>\n",
       "      <td>A django rest framework for handling requests,...</td>\n",
       "      <td>https://api.github.com/repos/cakey/Shimmer</td>\n",
       "      <td>0.0</td>\n",
       "      <td>0.0</td>\n",
       "    </tr>\n",
       "  </tbody>\n",
       "</table>\n",
       "</div>"
      ],
      "text/plain": [
       "   project_id                                        description  \\\n",
       "0          67                       Chinese segmentation library   \n",
       "1         119  Easy to use CLI for picture classification bas...   \n",
       "2         197        Use the Twilio API to send hourly catfacts!   \n",
       "3         220         GoodData client library written in python.   \n",
       "4         265  A django rest framework for handling requests,...   \n",
       "\n",
       "                                                 url  released  from_pypi  \n",
       "0        https://api.github.com/repos/victorlin/loso       0.0        0.0  \n",
       "1      https://api.github.com/repos/fudgefr/pyctozor       0.0        0.0  \n",
       "2    https://api.github.com/repos/rossdylan/catfacts       0.0        0.0  \n",
       "3  https://api.github.com/repos/comoga/gooddata-p...       0.0        0.0  \n",
       "4         https://api.github.com/repos/cakey/Shimmer       0.0        0.0  "
      ]
     },
     "execution_count": 3,
     "metadata": {},
     "output_type": "execute_result"
    }
   ],
   "source": [
    "pyprojects.head()"
   ]
  },
  {
   "cell_type": "code",
   "execution_count": 6,
   "metadata": {},
   "outputs": [
    {
     "name": "stdout",
     "output_type": "stream",
     "text": [
      "(0.0703590349091926, 0.18993726698488939)\n"
     ]
    }
   ],
   "source": [
    "# percentage of release from GHTorrent\n",
    "ghrelease = pyprojects[pyprojects['from_pypi']==0]['released'].mean()\n",
    "allrelease = pyprojects['released'].mean()\n",
    "print(dcompute(ghrelease, allrelease))"
   ]
  },
  {
   "cell_type": "markdown",
   "metadata": {},
   "source": [
    "__It is clear that we have an over-sampling of released projects.__\n",
    "* If we don't use PyPI data, the release percentage is about 7\\%.\n",
    "* After merging with PyPI data, the release percentage becomes 18.99\\%."
   ]
  },
  {
   "cell_type": "code",
   "execution_count": 4,
   "metadata": {},
   "outputs": [
    {
     "data": {
      "text/html": [
       "<div>\n",
       "<style scoped>\n",
       "    .dataframe tbody tr th:only-of-type {\n",
       "        vertical-align: middle;\n",
       "    }\n",
       "\n",
       "    .dataframe tbody tr th {\n",
       "        vertical-align: top;\n",
       "    }\n",
       "\n",
       "    .dataframe thead th {\n",
       "        text-align: right;\n",
       "    }\n",
       "</style>\n",
       "<table border=\"1\" class=\"dataframe\">\n",
       "  <thead>\n",
       "    <tr style=\"text-align: right;\">\n",
       "      <th></th>\n",
       "      <th>author_id</th>\n",
       "      <th>project_id</th>\n",
       "      <th>commit_year</th>\n",
       "      <th>commit_month</th>\n",
       "      <th>num_commits</th>\n",
       "    </tr>\n",
       "  </thead>\n",
       "  <tbody>\n",
       "    <tr>\n",
       "      <th>0</th>\n",
       "      <td>3</td>\n",
       "      <td>1.0</td>\n",
       "      <td>2011</td>\n",
       "      <td>12</td>\n",
       "      <td>2</td>\n",
       "    </tr>\n",
       "    <tr>\n",
       "      <th>1</th>\n",
       "      <td>3</td>\n",
       "      <td>45316.0</td>\n",
       "      <td>2010</td>\n",
       "      <td>12</td>\n",
       "      <td>2</td>\n",
       "    </tr>\n",
       "    <tr>\n",
       "      <th>2</th>\n",
       "      <td>3</td>\n",
       "      <td>45316.0</td>\n",
       "      <td>2011</td>\n",
       "      <td>11</td>\n",
       "      <td>1</td>\n",
       "    </tr>\n",
       "    <tr>\n",
       "      <th>3</th>\n",
       "      <td>3</td>\n",
       "      <td>199049.0</td>\n",
       "      <td>2012</td>\n",
       "      <td>1</td>\n",
       "      <td>4</td>\n",
       "    </tr>\n",
       "    <tr>\n",
       "      <th>4</th>\n",
       "      <td>3</td>\n",
       "      <td>330967.0</td>\n",
       "      <td>2012</td>\n",
       "      <td>4</td>\n",
       "      <td>1</td>\n",
       "    </tr>\n",
       "  </tbody>\n",
       "</table>\n",
       "</div>"
      ],
      "text/plain": [
       "   author_id  project_id  commit_year  commit_month  num_commits\n",
       "0          3         1.0         2011            12            2\n",
       "1          3     45316.0         2010            12            2\n",
       "2          3     45316.0         2011            11            1\n",
       "3          3    199049.0         2012             1            4\n",
       "4          3    330967.0         2012             4            1"
      ]
     },
     "execution_count": 4,
     "metadata": {},
     "output_type": "execute_result"
    }
   ],
   "source": [
    "commits.head()"
   ]
  },
  {
   "cell_type": "code",
   "execution_count": null,
   "metadata": {},
   "outputs": [],
   "source": [
    "pycommits = commits.merge(how='inner', left_on=)"
   ]
  }
 ],
 "metadata": {
  "kernelspec": {
   "display_name": "Python 3",
   "language": "python",
   "name": "python3"
  },
  "language_info": {
   "codemirror_mode": {
    "name": "ipython",
    "version": 3
   },
   "file_extension": ".py",
   "mimetype": "text/x-python",
   "name": "python",
   "nbconvert_exporter": "python",
   "pygments_lexer": "ipython3",
   "version": "3.8.2"
  }
 },
 "nbformat": 4,
 "nbformat_minor": 4
}
