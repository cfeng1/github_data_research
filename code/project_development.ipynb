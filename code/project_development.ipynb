{
 "cells": [
  {
   "cell_type": "markdown",
   "metadata": {},
   "source": [
    "# EDA on Project Development Cycle\n",
    "\n",
    "* Over-sampling of released projects?\n",
    "  * released percentage in ghtorrent data v.s. released in current data\n",
    "* Number of commits by project age?"
   ]
  },
  {
   "cell_type": "code",
   "execution_count": 1,
   "metadata": {},
   "outputs": [
    {
     "name": "stdout",
     "output_type": "stream",
     "text": [
      "<Scheduler: \"tcp://127.0.0.1:35241\" processes: 4 cores: 16>\n",
      "<Client: 'tcp://127.0.0.1:35241' processes=4 threads=16, memory=16.80 GB>\n"
     ]
    }
   ],
   "source": [
    "from dask.distributed import Client, LocalCluster\n",
    "cluster = LocalCluster()\n",
    "client = Client(cluster)\n",
    "print(cluster.scheduler)\n",
    "print(client)"
   ]
  },
  {
   "cell_type": "code",
   "execution_count": 2,
   "metadata": {},
   "outputs": [],
   "source": [
    "import collections\n",
    "import numpy as np\n",
    "import pandas as pd\n",
    "import dask.dataframe as dd\n",
    "from dask import compute as dcompute\n",
    "import os\n",
    "data_dir = '/home/faithfeng/Dropbox/GitHub/Data/new_python_dataset'"
   ]
  },
  {
   "cell_type": "code",
   "execution_count": 3,
   "metadata": {},
   "outputs": [
    {
     "name": "stdout",
     "output_type": "stream",
     "text": [
      "369343\n"
     ]
    },
    {
     "data": {
      "text/html": [
       "<div>\n",
       "<style scoped>\n",
       "    .dataframe tbody tr th:only-of-type {\n",
       "        vertical-align: middle;\n",
       "    }\n",
       "\n",
       "    .dataframe tbody tr th {\n",
       "        vertical-align: top;\n",
       "    }\n",
       "\n",
       "    .dataframe thead th {\n",
       "        text-align: right;\n",
       "    }\n",
       "</style>\n",
       "<table border=\"1\" class=\"dataframe\">\n",
       "  <thead>\n",
       "    <tr style=\"text-align: right;\">\n",
       "      <th></th>\n",
       "      <th>project_id</th>\n",
       "      <th>description</th>\n",
       "      <th>url</th>\n",
       "      <th>released</th>\n",
       "      <th>from_pypi</th>\n",
       "    </tr>\n",
       "  </thead>\n",
       "  <tbody>\n",
       "    <tr>\n",
       "      <th>0</th>\n",
       "      <td>67</td>\n",
       "      <td>Chinese segmentation library</td>\n",
       "      <td>https://api.github.com/repos/victorlin/loso</td>\n",
       "      <td>0.0</td>\n",
       "      <td>0.0</td>\n",
       "    </tr>\n",
       "    <tr>\n",
       "      <th>1</th>\n",
       "      <td>119</td>\n",
       "      <td>Easy to use CLI for picture classification bas...</td>\n",
       "      <td>https://api.github.com/repos/fudgefr/pyctozor</td>\n",
       "      <td>0.0</td>\n",
       "      <td>0.0</td>\n",
       "    </tr>\n",
       "    <tr>\n",
       "      <th>2</th>\n",
       "      <td>197</td>\n",
       "      <td>Use the Twilio API to send hourly catfacts!</td>\n",
       "      <td>https://api.github.com/repos/rossdylan/catfacts</td>\n",
       "      <td>0.0</td>\n",
       "      <td>0.0</td>\n",
       "    </tr>\n",
       "    <tr>\n",
       "      <th>3</th>\n",
       "      <td>220</td>\n",
       "      <td>GoodData client library written in python.</td>\n",
       "      <td>https://api.github.com/repos/comoga/gooddata-p...</td>\n",
       "      <td>0.0</td>\n",
       "      <td>0.0</td>\n",
       "    </tr>\n",
       "    <tr>\n",
       "      <th>4</th>\n",
       "      <td>265</td>\n",
       "      <td>A django rest framework for handling requests,...</td>\n",
       "      <td>https://api.github.com/repos/cakey/Shimmer</td>\n",
       "      <td>0.0</td>\n",
       "      <td>0.0</td>\n",
       "    </tr>\n",
       "  </tbody>\n",
       "</table>\n",
       "</div>"
      ],
      "text/plain": [
       "   project_id                                        description  \\\n",
       "0          67                       Chinese segmentation library   \n",
       "1         119  Easy to use CLI for picture classification bas...   \n",
       "2         197        Use the Twilio API to send hourly catfacts!   \n",
       "3         220         GoodData client library written in python.   \n",
       "4         265  A django rest framework for handling requests,...   \n",
       "\n",
       "                                                 url  released  from_pypi  \n",
       "0        https://api.github.com/repos/victorlin/loso       0.0        0.0  \n",
       "1      https://api.github.com/repos/fudgefr/pyctozor       0.0        0.0  \n",
       "2    https://api.github.com/repos/rossdylan/catfacts       0.0        0.0  \n",
       "3  https://api.github.com/repos/comoga/gooddata-p...       0.0        0.0  \n",
       "4         https://api.github.com/repos/cakey/Shimmer       0.0        0.0  "
      ]
     },
     "execution_count": 3,
     "metadata": {},
     "output_type": "execute_result"
    }
   ],
   "source": [
    "pyprojects = dd.read_csv(data_dir+os.sep+'merged_pyprojects.csv')\n",
    "\n",
    "print(len(pyprojects))\n",
    "pyprojects.head()"
   ]
  },
  {
   "cell_type": "code",
   "execution_count": 4,
   "metadata": {},
   "outputs": [
    {
     "name": "stdout",
     "output_type": "stream",
     "text": [
      "(0.0703590349091926, 0.18993726698488939)\n"
     ]
    }
   ],
   "source": [
    "# percentage of release from GHTorrent\n",
    "ghrelease = pyprojects[pyprojects['from_pypi']==0]['released'].mean()\n",
    "allrelease = pyprojects['released'].mean()\n",
    "print(dcompute(ghrelease, allrelease))"
   ]
  },
  {
   "cell_type": "markdown",
   "metadata": {},
   "source": [
    "__It is clear that we have an over-sampling of released projects.__\n",
    "* If we don't use PyPI data, the release percentage is about 7\\%.\n",
    "* After merging with PyPI data, the release percentage becomes 18.99\\%."
   ]
  },
  {
   "cell_type": "code",
   "execution_count": 5,
   "metadata": {},
   "outputs": [
    {
     "data": {
      "text/html": [
       "<div>\n",
       "<style scoped>\n",
       "    .dataframe tbody tr th:only-of-type {\n",
       "        vertical-align: middle;\n",
       "    }\n",
       "\n",
       "    .dataframe tbody tr th {\n",
       "        vertical-align: top;\n",
       "    }\n",
       "\n",
       "    .dataframe thead th {\n",
       "        text-align: right;\n",
       "    }\n",
       "</style>\n",
       "<table border=\"1\" class=\"dataframe\">\n",
       "  <thead>\n",
       "    <tr style=\"text-align: right;\">\n",
       "      <th></th>\n",
       "      <th>name</th>\n",
       "      <th>version</th>\n",
       "      <th>date</th>\n",
       "      <th>deps</th>\n",
       "      <th>raw_dependencies</th>\n",
       "      <th>url</th>\n",
       "      <th>project_id</th>\n",
       "    </tr>\n",
       "  </thead>\n",
       "  <tbody>\n",
       "    <tr>\n",
       "      <th>0</th>\n",
       "      <td>0</td>\n",
       "      <td>0.0.0</td>\n",
       "      <td>8/6/17</td>\n",
       "      <td>NaN</td>\n",
       "      <td>{}</td>\n",
       "      <td>NaN</td>\n",
       "      <td>NaN</td>\n",
       "    </tr>\n",
       "    <tr>\n",
       "      <th>1</th>\n",
       "      <td>0-core-client</td>\n",
       "      <td>1.1.0a3</td>\n",
       "      <td>6/9/17</td>\n",
       "      <td>NaN</td>\n",
       "      <td>{}</td>\n",
       "      <td>github.com/zero-os/0-core</td>\n",
       "      <td>65822010.0</td>\n",
       "    </tr>\n",
       "    <tr>\n",
       "      <th>2</th>\n",
       "      <td>0-core-client</td>\n",
       "      <td>1.1.0a4</td>\n",
       "      <td>6/21/17</td>\n",
       "      <td>NaN</td>\n",
       "      <td>{}</td>\n",
       "      <td>github.com/zero-os/0-core</td>\n",
       "      <td>65822010.0</td>\n",
       "    </tr>\n",
       "    <tr>\n",
       "      <th>3</th>\n",
       "      <td>0-core-client</td>\n",
       "      <td>1.1.0a5</td>\n",
       "      <td>7/17/17</td>\n",
       "      <td>NaN</td>\n",
       "      <td>{}</td>\n",
       "      <td>github.com/zero-os/0-core</td>\n",
       "      <td>65822010.0</td>\n",
       "    </tr>\n",
       "    <tr>\n",
       "      <th>4</th>\n",
       "      <td>0-core-client</td>\n",
       "      <td>1.1.0a7</td>\n",
       "      <td>8/8/17</td>\n",
       "      <td>NaN</td>\n",
       "      <td>{}</td>\n",
       "      <td>github.com/zero-os/0-core</td>\n",
       "      <td>65822010.0</td>\n",
       "    </tr>\n",
       "  </tbody>\n",
       "</table>\n",
       "</div>"
      ],
      "text/plain": [
       "            name  version     date deps raw_dependencies  \\\n",
       "0              0    0.0.0   8/6/17  NaN               {}   \n",
       "1  0-core-client  1.1.0a3   6/9/17  NaN               {}   \n",
       "2  0-core-client  1.1.0a4  6/21/17  NaN               {}   \n",
       "3  0-core-client  1.1.0a5  7/17/17  NaN               {}   \n",
       "4  0-core-client  1.1.0a7   8/8/17  NaN               {}   \n",
       "\n",
       "                         url  project_id  \n",
       "0                        NaN         NaN  \n",
       "1  github.com/zero-os/0-core  65822010.0  \n",
       "2  github.com/zero-os/0-core  65822010.0  \n",
       "3  github.com/zero-os/0-core  65822010.0  \n",
       "4  github.com/zero-os/0-core  65822010.0  "
      ]
     },
     "execution_count": 5,
     "metadata": {},
     "output_type": "execute_result"
    }
   ],
   "source": [
    "releases = dd.read_csv(data_dir+os.sep+'pypi_dependencies.csv')\n",
    "releases.head()"
   ]
  },
  {
   "cell_type": "code",
   "execution_count": 6,
   "metadata": {},
   "outputs": [
    {
     "name": "stdout",
     "output_type": "stream",
     "text": [
      "541592\n"
     ]
    }
   ],
   "source": [
    "releases = releases.dropna(subset=['project_id', 'date'])\n",
    "print(len(releases))"
   ]
  },
  {
   "cell_type": "code",
   "execution_count": 7,
   "metadata": {},
   "outputs": [
    {
     "data": {
      "text/html": [
       "<div>\n",
       "<style scoped>\n",
       "    .dataframe tbody tr th:only-of-type {\n",
       "        vertical-align: middle;\n",
       "    }\n",
       "\n",
       "    .dataframe tbody tr th {\n",
       "        vertical-align: top;\n",
       "    }\n",
       "\n",
       "    .dataframe thead th {\n",
       "        text-align: right;\n",
       "    }\n",
       "</style>\n",
       "<table border=\"1\" class=\"dataframe\">\n",
       "  <thead>\n",
       "    <tr style=\"text-align: right;\">\n",
       "      <th></th>\n",
       "      <th>name</th>\n",
       "      <th>version</th>\n",
       "      <th>date</th>\n",
       "      <th>deps</th>\n",
       "      <th>raw_dependencies</th>\n",
       "      <th>url</th>\n",
       "      <th>project_id</th>\n",
       "      <th>datetime</th>\n",
       "    </tr>\n",
       "  </thead>\n",
       "  <tbody>\n",
       "    <tr>\n",
       "      <th>1</th>\n",
       "      <td>0-core-client</td>\n",
       "      <td>1.1.0a3</td>\n",
       "      <td>6/9/17</td>\n",
       "      <td>NaN</td>\n",
       "      <td>{}</td>\n",
       "      <td>github.com/zero-os/0-core</td>\n",
       "      <td>65822010.0</td>\n",
       "      <td>2017-06-09</td>\n",
       "    </tr>\n",
       "    <tr>\n",
       "      <th>2</th>\n",
       "      <td>0-core-client</td>\n",
       "      <td>1.1.0a4</td>\n",
       "      <td>6/21/17</td>\n",
       "      <td>NaN</td>\n",
       "      <td>{}</td>\n",
       "      <td>github.com/zero-os/0-core</td>\n",
       "      <td>65822010.0</td>\n",
       "      <td>2017-06-21</td>\n",
       "    </tr>\n",
       "    <tr>\n",
       "      <th>3</th>\n",
       "      <td>0-core-client</td>\n",
       "      <td>1.1.0a5</td>\n",
       "      <td>7/17/17</td>\n",
       "      <td>NaN</td>\n",
       "      <td>{}</td>\n",
       "      <td>github.com/zero-os/0-core</td>\n",
       "      <td>65822010.0</td>\n",
       "      <td>2017-07-17</td>\n",
       "    </tr>\n",
       "    <tr>\n",
       "      <th>4</th>\n",
       "      <td>0-core-client</td>\n",
       "      <td>1.1.0a7</td>\n",
       "      <td>8/8/17</td>\n",
       "      <td>NaN</td>\n",
       "      <td>{}</td>\n",
       "      <td>github.com/zero-os/0-core</td>\n",
       "      <td>65822010.0</td>\n",
       "      <td>2017-08-08</td>\n",
       "    </tr>\n",
       "    <tr>\n",
       "      <th>5</th>\n",
       "      <td>0-core-client</td>\n",
       "      <td>1.1.0a8</td>\n",
       "      <td>10/11/17</td>\n",
       "      <td>NaN</td>\n",
       "      <td>{}</td>\n",
       "      <td>github.com/zero-os/0-core</td>\n",
       "      <td>65822010.0</td>\n",
       "      <td>2017-10-11</td>\n",
       "    </tr>\n",
       "  </tbody>\n",
       "</table>\n",
       "</div>"
      ],
      "text/plain": [
       "            name  version      date deps raw_dependencies  \\\n",
       "1  0-core-client  1.1.0a3    6/9/17  NaN               {}   \n",
       "2  0-core-client  1.1.0a4   6/21/17  NaN               {}   \n",
       "3  0-core-client  1.1.0a5   7/17/17  NaN               {}   \n",
       "4  0-core-client  1.1.0a7    8/8/17  NaN               {}   \n",
       "5  0-core-client  1.1.0a8  10/11/17  NaN               {}   \n",
       "\n",
       "                         url  project_id   datetime  \n",
       "1  github.com/zero-os/0-core  65822010.0 2017-06-09  \n",
       "2  github.com/zero-os/0-core  65822010.0 2017-06-21  \n",
       "3  github.com/zero-os/0-core  65822010.0 2017-07-17  \n",
       "4  github.com/zero-os/0-core  65822010.0 2017-08-08  \n",
       "5  github.com/zero-os/0-core  65822010.0 2017-10-11  "
      ]
     },
     "execution_count": 7,
     "metadata": {},
     "output_type": "execute_result"
    }
   ],
   "source": [
    "dateParser = lambda x: pd.to_datetime(x, format='%m/%d/%y')\n",
    "meta = ('time', 'datetime64[ns]')\n",
    "releases['datetime'] = releases['date'].map_partitions(pd.to_datetime, meta=meta)\n",
    "releases.head()"
   ]
  },
  {
   "cell_type": "code",
   "execution_count": 8,
   "metadata": {},
   "outputs": [
    {
     "data": {
      "text/plain": [
       "project_id\n",
       "64.0     16\n",
       "253.0    41\n",
       "268.0     2\n",
       "436.0     3\n",
       "514.0     4\n",
       "Name: version, dtype: int64"
      ]
     },
     "execution_count": 8,
     "metadata": {},
     "output_type": "execute_result"
    }
   ],
   "source": [
    "num_releases = releases.groupby('project_id')['version'].count().compute()\n",
    "num_releases.head()"
   ]
  },
  {
   "cell_type": "code",
   "execution_count": 10,
   "metadata": {},
   "outputs": [
    {
     "data": {
      "text/plain": [
       "<matplotlib.axes._subplots.AxesSubplot at 0x7f29c4bb5640>"
      ]
     },
     "execution_count": 10,
     "metadata": {},
     "output_type": "execute_result"
    },
    {
     "data": {
      "image/png": "[encoded data removed]",
      "text/plain": [
       "<Figure size 432x288 with 1 Axes>"
      ]
     },
     "metadata": {
      "needs_background": "light"
     },
     "output_type": "display_data"
    }
   ],
   "source": [
    "num_releases.hist()"
   ]
  },
  {
   "cell_type": "code",
   "execution_count": null,
   "metadata": {},
   "outputs": [],
   "source": [
    "num_releases = pd.DataFrame(num_releases).reset_index()\n",
    "num_releases.head()"
   ]
  },
  {
   "cell_type": "code",
   "execution_count": 23,
   "metadata": {},
   "outputs": [],
   "source": [
    "first_three = releases.groupby('project_id')['datetime'].apply(lambda x: x.nsmallest(3), meta=('datetime', 'datetime64[ns]')).compute()"
   ]
  },
  {
   "cell_type": "code",
   "execution_count": 29,
   "metadata": {},
   "outputs": [
    {
     "data": {
      "text/plain": [
       "0          NaN\n",
       "1          NaN\n",
       "2          NaN\n",
       "3         11.0\n",
       "4         30.0\n",
       "          ... \n",
       "169975     NaN\n",
       "169976     0.0\n",
       "169977     0.0\n",
       "169978     NaN\n",
       "169979     NaN\n",
       "Name: datetime, Length: 169980, dtype: float64"
      ]
     },
     "execution_count": 29,
     "metadata": {},
     "output_type": "execute_result"
    }
   ],
   "source": [
    "(first_three.reset_index().groupby('project_id'))['datetime'].diff(1)//np.timedelta64(1, 'M')"
   ]
  },
  {
   "cell_type": "code",
   "execution_count": null,
   "metadata": {},
   "outputs": [],
   "source": []
  }
 ],
 "metadata": {
  "kernelspec": {
   "display_name": "githubdata",
   "language": "python",
   "name": "githubdata"
  },
  "language_info": {
   "codemirror_mode": {
    "name": "ipython",
    "version": 3
   },
   "file_extension": ".py",
   "mimetype": "text/x-python",
   "name": "python",
   "nbconvert_exporter": "python",
   "pygments_lexer": "ipython3",
   "version": "3.8.2"
  }
 },
 "nbformat": 4,
 "nbformat_minor": 4
}
